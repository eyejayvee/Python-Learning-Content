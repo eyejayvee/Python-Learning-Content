{
 "cells": [
  {
   "cell_type": "markdown",
   "id": "6cececff-7282-40e1-8a1c-581d0bdc88cc",
   "metadata": {},
   "source": [
    "# Welcome to Python for Data Analytics\n",
    "\n",
    "The material covered in this course is not intended to teach you Python. For this we recommend that you consider the following resources:\n",
    "\n",
    "## Introduction to Python\n",
    "\n",
    "1. [Datacamp - Python Fundamentals](https://app.datacamp.com/learn/skill-tracks/python-fundamentals) - _fee_\n",
    "2. [W3Schools - Python Tutorial](https://www.w3schools.com/python/default.asp) - free\n",
    "3. [Udemy - 100 Days of Python](https://www.udemy.com/course/100-days-of-code) - fee\n",
    "\n",
    "Course material will, however provide an overview of some of the common Python libraries used for data analysis, including:\n",
    "\n",
    "## Course Topics\n",
    "\n",
    "1. [Numpy](https://numpy.org/)\n",
    "2. [Pandas](https://pandas.pydata.org)\n",
    "3. [Matplotlib](https://matplotlib.org)\n",
    "4. [Plotly](https://plotly.com)\n",
    "5. [Seaborn](https://seaborn.pydata.org)\n",
    "\n",
    "...to name a few. Datacamp has a great cheatsheet that provides a quick reference to these libraries, which can be found [here](https://images.datacamp.com/image/upload/v1694526244/Marketing/Blog/Python_Basics_Cheat_Sheet-updated.pdf).\n",
    "\n",
    "We will be using Jupyter as the user environment in which code is written and run. Finally, we will briefly look at a web scraping example that also provides an example of sentiment analysis.\n",
    "\n",
    "Should you choose to pursue data engineering/wrangling and analysis further, there is an excellent book written by _Wes McKinney_ - **Python for Data Analysis**, which can be [read online](https://wesmckinney.com/book/) or by [purchasing](https://www.amazon.co.uk/Python-Data-Analysis-3e-Wrangling/dp/109810403X/ref=tmm_pap_swatch_0?_encoding=UTF8&qid=&sr=) a copy of the book/ebook, and supporting the author.\n"
   ]
  }
 ],
 "metadata": {
  "kernelspec": {
   "display_name": "Python 3 (ipykernel)",
   "language": "python",
   "name": "python3"
  },
  "language_info": {
   "codemirror_mode": {
    "name": "ipython",
    "version": 3
   },
   "file_extension": ".py",
   "mimetype": "text/x-python",
   "name": "python",
   "nbconvert_exporter": "python",
   "pygments_lexer": "ipython3",
   "version": "3.10.10"
  }
 },
 "nbformat": 4,
 "nbformat_minor": 5
}
