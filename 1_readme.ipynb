{
 "cells": [
  {
   "cell_type": "markdown",
   "id": "6cececff-7282-40e1-8a1c-581d0bdc88cc",
   "metadata": {},
   "source": [
    "# Welcome to Python for Data Engineering & Analytics\n",
    "\n",
    "The material covered in this course is not intended to teach you Python. For this we recommend that you consider the following resources:\n",
    "\n",
    "## Introduction to Python\n",
    "\n",
    "1. [Datacamp - Python Fundamentals](https://app.datacamp.com/learn/skill-tracks/python-fundamentals) - _fee_\n",
    "2. [W3Schools - Python Tutorial](https://www.w3schools.com/python/default.asp) - free\n",
    "3. [Udemy - 100 Days of Python](https://www.udemy.com/course/100-days-of-code) - fee\n",
    "\n",
    "Course material will however provide an overview of some of the common Python libraries used for data analysis including:\n",
    "\n",
    "## Course Topics\n",
    "\n",
    "1. Numpy\n",
    "2. Pandas\n",
    "3. Plotly\n",
    "4. Seaborn\n",
    "5. Matplotlib\n",
    "\n",
    "To name a few. Will be using Jupyter as the user environment in which code is written and run. Finally, we will briefly take a look at a web scraping example that also does provides and example of sentiment analysis.\n",
    "\n",
    "Should you choose to persue data engineering/wrangling and analysis further, there is an excellent book written by _Wes McKinney_ - **Python for Data Analysis**, which can be [read online](https://wesmckinney.com/book/) or by [purchasing](https://www.amazon.co.uk/Python-Data-Analysis-3e-Wrangling/dp/109810403X/ref=tmm_pap_swatch_0?_encoding=UTF8&qid=&sr=) a copy of the book/ebook, and supporting the author."
   ]
  }
 ],
 "metadata": {
  "kernelspec": {
   "display_name": "Python 3 (ipykernel)",
   "language": "python",
   "name": "python3"
  },
  "language_info": {
   "codemirror_mode": {
    "name": "ipython",
    "version": 3
   },
   "file_extension": ".py",
   "mimetype": "text/x-python",
   "name": "python",
   "nbconvert_exporter": "python",
   "pygments_lexer": "ipython3",
   "version": "3.10.10"
  }
 },
 "nbformat": 4,
 "nbformat_minor": 5
}
